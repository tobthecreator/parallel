{
  "nbformat": 4,
  "nbformat_minor": 0,
  "metadata": {
    "colab": {
      "provenance": [],
      "gpuType": "T4",
      "toc_visible": true,
      "authorship_tag": "ABX9TyOf3YSoHPG/r7lN0pgG6JI8",
      "include_colab_link": true
    },
    "kernelspec": {
      "name": "python3",
      "display_name": "Python 3"
    },
    "language_info": {
      "name": "python"
    },
    "accelerator": "GPU"
  },
  "cells": [
    {
      "cell_type": "markdown",
      "metadata": {
        "id": "view-in-github",
        "colab_type": "text"
      },
      "source": [
        "<a href=\"https://colab.research.google.com/github/tobthecreator/parallel/blob/main/vector_add.ipynb\" target=\"_parent\"><img src=\"https://colab.research.google.com/assets/colab-badge.svg\" alt=\"Open In Colab\"/></a>"
      ]
    },
    {
      "cell_type": "code",
      "execution_count": 43,
      "metadata": {
        "colab": {
          "base_uri": "https://localhost:8080/"
        },
        "id": "AtiE2fFqgde-",
        "outputId": "fd419a4d-9325-4f52-c327-1ad1a1d044af"
      },
      "outputs": [
        {
          "output_type": "stream",
          "name": "stdout",
          "text": [
            "Overwriting vector_add.cu\n"
          ]
        }
      ],
      "source": [
        "%%writefile vector_add.cu\n",
        "#include <stdio.h>\n",
        "\n",
        "__global__ void vectorAdd(const float *A, const float *B, float *C, int n) {\n",
        "    int i = blockDim.x * blockIdx.x + threadIdx.x;\n",
        "    if (i < n) {\n",
        "        C[i] = A[i] + B[i];\n",
        "    }\n",
        "}\n",
        "\n",
        "int main() {\n",
        "    int n = 1000;\n",
        "    size_t size = n * sizeof(float);\n",
        "\n",
        "    // Allocate host memory\n",
        "    float *h_A = (float *)malloc(size);\n",
        "    float *h_B = (float *)malloc(size);\n",
        "    float *h_C = (float *)malloc(size);\n",
        "\n",
        "    // Initialize host arrays\n",
        "    for (int i = 0; i < n; i++) {\n",
        "        h_A[i] = i;\n",
        "        h_B[i] = i * 2.0f;\n",
        "    }\n",
        "\n",
        "    // Allocate device memory\n",
        "    float *d_A, *d_B, *d_C;\n",
        "    cudaMalloc(&d_A, size);\n",
        "    cudaMalloc(&d_B, size);\n",
        "    cudaMalloc(&d_C, size);\n",
        "\n",
        "    // Copy inputs to device\n",
        "    cudaMemcpy(d_A, h_A, size, cudaMemcpyHostToDevice);\n",
        "    cudaMemcpy(d_B, h_B, size, cudaMemcpyHostToDevice);\n",
        "\n",
        "    // Launch kernel\n",
        "    int blockSize = 256;\n",
        "    int numBlocks = (n + blockSize - 1) / blockSize;\n",
        "    vectorAdd<<<numBlocks, blockSize>>>(d_A, d_B, d_C, n);\n",
        "\n",
        "    // Copy result back to host\n",
        "    cudaMemcpy(h_C, d_C, size, cudaMemcpyDeviceToHost);\n",
        "\n",
        "    // Verify result\n",
        "    for (int i = 0; i < 10; i++) {\n",
        "        printf(\"%.0f + %.0f = %.0f\\n\", h_A[i], h_B[i], h_C[i]);\n",
        "    }\n",
        "\n",
        "    // Free memory\n",
        "    cudaFree(d_A);\n",
        "    cudaFree(d_B);\n",
        "    cudaFree(d_C);\n",
        "    free(h_A);\n",
        "    free(h_B);\n",
        "    free(h_C);\n",
        "\n",
        "    return 0;\n",
        "}"
      ]
    },
    {
      "cell_type": "code",
      "source": [
        "!nvcc vector_add.cu -o vector_add"
      ],
      "metadata": {
        "id": "ZcQMcVwZhlQD"
      },
      "execution_count": 44,
      "outputs": []
    },
    {
      "cell_type": "code",
      "source": [
        "%%writefile vector_add.cu\n",
        "#include <stdio.h>\n",
        "#include <time.h>\n",
        "\n",
        "// Function to print elements of a float array\n",
        "void printFloatArray(float arr[], int size) {\n",
        "    for (int i = 0; i < size; i++) {\n",
        "        printf(\"Element %d: %.3f\\n\", i, arr[i]);  // Print with 3 decimal places\n",
        "    }\n",
        "\n",
        "    printf(\"\\n\\n\");\n",
        "}\n",
        "\n",
        "// Operate directly in RAM\n",
        "void vectorAddCPU(float* x, float* y, float* z, int N) {\n",
        "  for (unsigned int i=0; i<N; ++i) {\n",
        "    z[i] = x[i] + y[i];\n",
        "  }\n",
        "}\n",
        "\n",
        "__global__ void vectorAddGPUKernal(float *x, float* y, float* z, int N) {\n",
        "  // gridDim.x -> num blocks in grid\n",
        "  // blockIdx.x -> position of block in grid\n",
        "  // threadIdx.x -> position of thread in block\n",
        "  // blockDim.x -> number of threads in a block\n",
        "\n",
        "  // Each thread has to compute it's global index so it can backtrack to to the index in the arrays\n",
        "  unsigned int i = blockDim.x * blockIdx.x + threadIdx.x;\n",
        "\n",
        "  if (i < N) {\n",
        "    z[i] = x[i] + y[i];;\n",
        "  }\n",
        "}\n",
        "\n",
        "\n",
        "// Copy memory over to the GPU, then operate\n",
        "void vectorAddGPU(float* x, float* y, float* z, int N) {\n",
        "  // Allocate GPU memory, \"_d\" is just \"x-on-the-device (GPU)\"\n",
        "  float *x_d, *y_d, *z_d;\n",
        "\n",
        "  // Pass a pointer for the input vectors so that we can copy them\n",
        "  cudaMalloc((void**)&x_d, N*sizeof(float));\n",
        "  cudaMalloc((void**)&y_d, N*sizeof(float));\n",
        "  cudaMalloc((void**)&z_d, N*sizeof(float));\n",
        "\n",
        "  // Copy to the GPU\n",
        "  cudaMemcpy(x_d, x, N*sizeof(float), cudaMemcpyHostToDevice);\n",
        "  cudaMemcpy(y_d, y, N*sizeof(float), cudaMemcpyHostToDevice);\n",
        "\n",
        "  // Run the GPU\n",
        "  // z_d[i] = x_d[i] + y_d[i];\n",
        "  // One GPU thread per vector element\n",
        "\n",
        "  // Arrays of Threads are called Grids.\n",
        "  // Grids are organized into Blocks.\n",
        "  // We need to launch a Grid of Threads.\n",
        "  // All Threads in the same Grid execute the same function, known as a kernal.\n",
        "\n",
        "  // Call a GPU Kernal fn (launch a Grid of Threads)\n",
        "  const unsigned int numThreadsPerBlock = 512;\n",
        "  const unsigned int numBlocks = (N + numThreadsPerBlock - 1)/numThreadsPerBlock;\n",
        "  vectorAddGPUKernal<<< numBlocks, numThreadsPerBlock >>>(x_d, y_d, z_d, N);\n",
        "  cudaDeviceSynchronize();\n",
        "\n",
        "\n",
        "  // Copy from the GPU\n",
        "  cudaMemcpy(z, z_d, N*sizeof(float), cudaMemcpyDeviceToHost);\n",
        "\n",
        "  // Deallocate the GPU memory\n",
        "\n",
        "  cudaFree(x_d);\n",
        "  cudaFree(y_d);\n",
        "  cudaFree(z_d);\n",
        "}\n",
        "\n",
        "void vectorAdd(unsigned int N) {\n",
        "  clock_t cpu_start, cpu_end, gpu_start, gpu_end;\n",
        "  double cpu_time, gpu_time;\n",
        "\n",
        "  float* x = (float*) malloc(N*sizeof(float));\n",
        "  float* y = (float*) malloc(N*sizeof(float));\n",
        "  float* z = (float*) malloc(N*sizeof(float));\n",
        "\n",
        "  for (unsigned int i=0; i<N; ++i) {\n",
        "    x[i] = rand();\n",
        "    y[i] = rand();\n",
        "\n",
        "  }\n",
        "\n",
        "  // printFloatArray(x, N);\n",
        "  // printFloatArray(y, N);\n",
        "\n",
        "  cpu_start = clock();\n",
        "  vectorAddCPU(x, y, z, N);\n",
        "  cpu_end = clock();\n",
        "  // printFloatArray(z, N);\n",
        "\n",
        "  gpu_start = clock();\n",
        "  vectorAddGPU(x, y, z, N);\n",
        "  gpu_end = clock();\n",
        "\n",
        "  // printFloatArray(z, N);\n",
        "\n",
        "  cpu_time = ((double)(cpu_end - cpu_start)) / CLOCKS_PER_SEC;\n",
        "  gpu_time = ((double)(gpu_end - gpu_start)) / CLOCKS_PER_SEC;\n",
        "  printf(\"Array size: %i\\n\", N);\n",
        "  printf(\"CPU execution time: %f seconds\\n\", cpu_time);\n",
        "  printf(\"GPU execution time: %f seconds\\n\", gpu_time);\n",
        "\n",
        "  printf(\"\\n\\n\");\n",
        "\n",
        "  free(x);\n",
        "  free(y);\n",
        "  free(z);\n",
        "\n",
        "}\n",
        "\n",
        "int main() {\n",
        "  unsigned int numOrdersOfMagnitude = 10;  // You can tweak this value\n",
        "\n",
        "    for (unsigned int i = 1; i < numOrdersOfMagnitude; i++) {\n",
        "        unsigned int n = pow(10, i);  // 10^i for each order of magnitude\n",
        "        vectorAdd(n);\n",
        "    }\n",
        "\n",
        "    return 0;\n",
        "}"
      ],
      "metadata": {
        "colab": {
          "base_uri": "https://localhost:8080/"
        },
        "id": "NXiT70WVqw_g",
        "outputId": "5ab8e538-52ad-4b72-aa54-402bb62870a5"
      },
      "execution_count": 95,
      "outputs": [
        {
          "output_type": "stream",
          "name": "stdout",
          "text": [
            "Writing vector_add.cu\n"
          ]
        }
      ]
    },
    {
      "cell_type": "code",
      "source": [
        "!nvcc vector_add.cu -o vector_add"
      ],
      "metadata": {
        "id": "wtfNV-qbryDQ"
      },
      "execution_count": 99,
      "outputs": []
    },
    {
      "cell_type": "code",
      "source": [
        "!./vector_add"
      ],
      "metadata": {
        "colab": {
          "base_uri": "https://localhost:8080/"
        },
        "id": "wxw-MSDJhwf1",
        "outputId": "e0ecf82e-9d51-4aca-9b72-1407c084148c"
      },
      "execution_count": 100,
      "outputs": [
        {
          "output_type": "stream",
          "name": "stdout",
          "text": [
            "Array size: 10\n",
            "CPU execution time: 0.000001 seconds\n",
            "GPU execution time: 0.197281 seconds\n",
            "\n",
            "\n",
            "Array size: 100\n",
            "CPU execution time: 0.000001 seconds\n",
            "GPU execution time: 0.000258 seconds\n",
            "\n",
            "\n",
            "Array size: 1000\n",
            "CPU execution time: 0.000003 seconds\n",
            "GPU execution time: 0.000213 seconds\n",
            "\n",
            "\n",
            "Array size: 10000\n",
            "CPU execution time: 0.000044 seconds\n",
            "GPU execution time: 0.000303 seconds\n",
            "\n",
            "\n",
            "Array size: 100000\n",
            "CPU execution time: 0.000453 seconds\n",
            "GPU execution time: 0.000609 seconds\n",
            "\n",
            "\n",
            "Array size: 1000000\n",
            "CPU execution time: 0.005924 seconds\n",
            "GPU execution time: 0.004025 seconds\n",
            "\n",
            "\n",
            "Array size: 10000000\n",
            "CPU execution time: 0.047994 seconds\n",
            "GPU execution time: 0.029569 seconds\n",
            "\n",
            "\n",
            "Array size: 100000000\n",
            "CPU execution time: 0.468434 seconds\n",
            "GPU execution time: 0.265127 seconds\n",
            "\n",
            "\n",
            "^C\n"
          ]
        }
      ]
    }
  ]
}